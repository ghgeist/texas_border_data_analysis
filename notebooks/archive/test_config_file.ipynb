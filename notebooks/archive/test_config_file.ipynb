{
 "cells": [
  {
   "cell_type": "code",
   "execution_count": 1,
   "metadata": {},
   "outputs": [],
   "source": [
    "import os\n",
    "from texas_border_data_analysis import *"
   ]
  },
  {
   "cell_type": "code",
   "execution_count": 2,
   "metadata": {},
   "outputs": [
    {
     "name": "stdout",
     "output_type": "stream",
     "text": [
      "c:\\Users\\grant\\OneDrive\\Documents\\udacity_data_science_program\\texas_border_data_analysis\n",
      "C:\\Users\\grant\\OneDrive\\Documents\\udacity_data_science_program\\texas_border_data_analysis\n",
      "C:\\Users\\grant\\OneDrive\\Documents\\udacity_data_science_program\\texas_border_data_analysis\\texas_border_data_analysis\n",
      "C:\\Users\\grant\\OneDrive\\Documents\\udacity_data_science_program\\texas_border_data_analysis\\data\\1_raw\n"
     ]
    }
   ],
   "source": [
    "#Prints working directory. This should be the 'texas_border_data_analysis' - the root of the project\n",
    "print(os.getcwd())\n",
    "\n",
    "\"\"\"\n",
    "This code should print out the absolute paths to the associated directories from the config file\n",
    "in the texas_border_data_analysis file\n",
    "\"\"\"\n",
    "print(project_base_dir)\n",
    "print(config_base_dir)\n",
    "print(raw_data_dir)"
   ]
  }
 ],
 "metadata": {
  "kernelspec": {
   "display_name": "udacity_ds",
   "language": "python",
   "name": "python3"
  },
  "language_info": {
   "codemirror_mode": {
    "name": "ipython",
    "version": 3
   },
   "file_extension": ".py",
   "mimetype": "text/x-python",
   "name": "python",
   "nbconvert_exporter": "python",
   "pygments_lexer": "ipython3",
   "version": "3.12.0"
  }
 },
 "nbformat": 4,
 "nbformat_minor": 2
}
